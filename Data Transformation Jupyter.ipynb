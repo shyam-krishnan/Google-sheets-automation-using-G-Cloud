{
 "cells": [
  {
   "cell_type": "code",
   "execution_count": 18,
   "metadata": {},
   "outputs": [],
   "source": [
    "#Giving permission to fetch data from the google sheet using the API of google cloud\n",
    "scope = ['https://spreadsheets.google.com/feeds','https://www.googleapis.com/auth/drive']\n",
    "creds = ServiceAccountCredentials.from_json_keyfile_name('Data_Transformation.json',scope)\n",
    "client = gspread.authorize(creds)"
   ]
  },
  {
   "cell_type": "code",
   "execution_count": 89,
   "metadata": {},
   "outputs": [
    {
     "name": "stdout",
     "output_type": "stream",
     "text": [
      "[{'Enter your Name': 'Joe Root',\n",
      "  'Favourite Causes': 'AAA BBB CCC DDD',\n",
      "  'Id': 1,\n",
      "  'Your Company Name': 'Changing the Present'}]\n"
     ]
    }
   ],
   "source": [
    "#Accessing google sheet as a python object\n",
    "sheet = client.open('Data Transformation using Python').sheet1\n",
    "python_sheet = sheet.get_all_records()\n",
    "pp = pprint.PrettyPrinter()\n",
    "pp.pprint(python_sheet)"
   ]
  },
  {
   "cell_type": "code",
   "execution_count": 90,
   "metadata": {},
   "outputs": [],
   "source": [
    "#Adding the Data Transformation Output Sheet\n",
    "sheet = client.open('Data Transformation using Python')\n",
    "worksheet = sheet.add_worksheet(title=\"Data Output\", rows=\"1000\", cols=\"50\")"
   ]
  },
  {
   "cell_type": "code",
   "execution_count": 95,
   "metadata": {},
   "outputs": [
    {
     "name": "stdout",
     "output_type": "stream",
     "text": [
      "['1', 'Joe Root', 'Changing the Present', 'AAA', 'BBB', 'CCC', 'DDD']\n",
      "['Favourite cause 1', 'Favourite cause 2', 'Favourite cause 3', 'Favourite cause 4']\n",
      "['Id', 'Name', 'Company Name', 'Favourite cause 1', 'Favourite cause 2', 'Favourite cause 3', 'Favourite cause 4']\n"
     ]
    }
   ],
   "source": [
    "#Data Transformation Step-1: Split the causes into individual cells\n",
    "worksheet_input=client.open('Data Transformation using Python').sheet1\n",
    "list_of_lists = worksheet_input.get_all_values()\n",
    "list_of_lists[1][3]\n",
    "a=list_of_lists[1][3].split(\" \")\n",
    "new_list=list_of_lists[1][:3]\n",
    "for i in a:\n",
    "    new_list.append(i)\n",
    "print(new_list)\n",
    "#Data Transformation Step-2: Change the column headers\n",
    "column_count=len(a)\n",
    "column_headers=[]\n",
    "i=1\n",
    "while(i<=column_count):\n",
    "    column_headers.append(\"Favourite cause\" + \" \"+str(i))\n",
    "    i=i+1\n",
    "print(column_headers)\n",
    "#Append column headers to new list\n",
    "headers=list_of_lists[0][:3]\n",
    "headers[1]=\"Name\"\n",
    "headers[2]=\"Company Name\"\n",
    "for j in column_headers:\n",
    "    headers.append(j)\n",
    "print(headers)"
   ]
  },
  {
   "cell_type": "code",
   "execution_count": 96,
   "metadata": {},
   "outputs": [
    {
     "data": {
      "text/plain": [
       "{'spreadsheetId': '12_BIS87VIerPOSP7rDlMEH8eXqVaLEde4aex3hCZ7pI',\n",
       " 'updatedRange': \"'Data Output'!A1:G2\",\n",
       " 'updatedRows': 2,\n",
       " 'updatedColumns': 7,\n",
       " 'updatedCells': 14}"
      ]
     },
     "execution_count": 96,
     "metadata": {},
     "output_type": "execute_result"
    }
   ],
   "source": [
    "#Add updated data to new sheet\n",
    "sh = client.open('Data Transformation using Python')\n",
    "worksheet = sh.get_worksheet(1)\n",
    "worksheet.update('A1:H2', [headers,new_list])"
   ]
  },
  {
   "cell_type": "code",
   "execution_count": 105,
   "metadata": {},
   "outputs": [
    {
     "data": {
      "text/plain": [
       "{'spreadsheetId': '12_BIS87VIerPOSP7rDlMEH8eXqVaLEde4aex3hCZ7pI',\n",
       " 'replies': [{}, {}]}"
      ]
     },
     "execution_count": 105,
     "metadata": {},
     "output_type": "execute_result"
    }
   ],
   "source": [
    "#Formatting output sheet\n",
    "from gspread_formatting import *\n",
    "fmt = cellFormat(\n",
    "    backgroundColor=color(1, 0.9, 0.9),\n",
    "    textFormat=textFormat(bold=True),\n",
    "    horizontalAlignment='CENTER'\n",
    "    )\n",
    "fmt2 = cellFormat(\n",
    "    horizontalAlignment='CENTER'\n",
    "    )\n",
    "format_cell_ranges(worksheet, [('A1:G1', fmt), ('A2:G2', fmt2)])\n",
    "set_column_width(worksheet, 'A:G', 150)"
   ]
  }
 ],
 "metadata": {
  "kernelspec": {
   "display_name": "Python 3",
   "language": "python",
   "name": "python3"
  },
  "language_info": {
   "codemirror_mode": {
    "name": "ipython",
    "version": 3
   },
   "file_extension": ".py",
   "mimetype": "text/x-python",
   "name": "python",
   "nbconvert_exporter": "python",
   "pygments_lexer": "ipython3",
   "version": "3.7.3"
  }
 },
 "nbformat": 4,
 "nbformat_minor": 2
}
